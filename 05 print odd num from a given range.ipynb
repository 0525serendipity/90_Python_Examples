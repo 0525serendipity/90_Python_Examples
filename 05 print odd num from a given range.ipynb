{
 "cells": [
  {
   "cell_type": "markdown",
   "metadata": {},
   "source": [
    "<small><small><i>\n",
    "All the IPython Notebooks in this example series by Dr. Milan Parmar are available @ **[GitHub](https://github.com/milaan9/90_Python_Examples)**\n",
    "</i></small></small>"
   ]
  },
  {
   "cell_type": "code",
   "execution_count": 1,
   "metadata": {},
   "outputs": [
    {
     "name": "stdout",
     "output_type": "stream",
     "text": [
      "Enter the lower limit for the range:12\n",
      "Enter the upper limit for the range:22\n",
      "13\n",
      "15\n",
      "17\n",
      "19\n",
      "21\n"
     ]
    },
    {
     "data": {
      "text/plain": [
       "'\\n>>Output/Runtime Test Cases\\n     \\nCase 1:\\nEnter number: 124\\nReverse of the number: 421\\n     \\nCase 2:\\nEnter number: 4538\\nReverse of the number: 8354\\n'"
      ]
     },
     "execution_count": 1,
     "metadata": {},
     "output_type": "execute_result"
    }
   ],
   "source": [
    "# Here is source code of the Python Program to print odd num from a given range\n",
    "# The program output is also shown below.\n",
    "\n",
    "lower=int(input(\"Enter the lower limit for the range:\"))\n",
    "upper=int(input(\"Enter the upper limit for the range:\"))\n",
    "for i in range(lower,upper+1):\n",
    "    if(i%2!=0):\n",
    "        print(i)\n",
    "\n",
    "'''\n",
    ">>Output/Runtime Test Cases\n",
    "     \n",
    "Case 1:\n",
    "Enter the lower limit for the range:1\n",
    "Enter the upper limit for the range:16\n",
    "1\n",
    "3\n",
    "5\n",
    "7\n",
    "9\n",
    "11\n",
    "13\n",
    "15\n",
    "'''"
   ]
  },
  {
   "cell_type": "code",
   "execution_count": null,
   "metadata": {},
   "outputs": [],
   "source": []
  }
 ],
 "metadata": {
  "hide_input": false,
  "kernelspec": {
   "display_name": "Python 3",
   "language": "python",
   "name": "python3"
  },
  "language_info": {
   "codemirror_mode": {
    "name": "ipython",
    "version": 3
   },
   "file_extension": ".py",
   "mimetype": "text/x-python",
   "name": "python",
   "nbconvert_exporter": "python",
   "pygments_lexer": "ipython3",
   "version": "3.8.8"
  },
  "toc": {
   "base_numbering": 1,
   "nav_menu": {},
   "number_sections": true,
   "sideBar": true,
   "skip_h1_title": false,
   "title_cell": "Table of Contents",
   "title_sidebar": "Contents",
   "toc_cell": false,
   "toc_position": {},
   "toc_section_display": true,
   "toc_window_display": false
  },
  "varInspector": {
   "cols": {
    "lenName": 16,
    "lenType": 16,
    "lenVar": 40
   },
   "kernels_config": {
    "python": {
     "delete_cmd_postfix": "",
     "delete_cmd_prefix": "del ",
     "library": "var_list.py",
     "varRefreshCmd": "print(var_dic_list())"
    },
    "r": {
     "delete_cmd_postfix": ") ",
     "delete_cmd_prefix": "rm(",
     "library": "var_list.r",
     "varRefreshCmd": "cat(var_dic_list()) "
    }
   },
   "types_to_exclude": [
    "module",
    "function",
    "builtin_function_or_method",
    "instance",
    "_Feature"
   ],
   "window_display": false
  }
 },
 "nbformat": 4,
 "nbformat_minor": 4
}
