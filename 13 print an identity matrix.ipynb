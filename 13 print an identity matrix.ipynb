{
 "cells": [
  {
   "cell_type": "markdown",
   "metadata": {},
   "source": [
    "<small><small><i>\n",
    "All the IPython Notebooks in this example series by Dr. Milan Parmar are available @ **[GitHub](https://github.com/milaan9/90_Python_Examples)**\n",
    "</i></small></small>"
   ]
  },
  {
   "cell_type": "code",
   "execution_count": 17,
   "metadata": {},
   "outputs": [
    {
     "name": "stdout",
     "output_type": "stream",
     "text": [
      "Enter a number: 6\n",
      "1 0 0 0 0 0 \n",
      "0 1 0 0 0 0 \n",
      "0 0 1 0 0 0 \n",
      "0 0 0 1 0 0 \n",
      "0 0 0 0 1 0 \n",
      "0 0 0 0 0 1 \n"
     ]
    },
    {
     "data": {
      "text/plain": [
       "'\\n>>Output/Runtime Test Cases\\n     \\nCase 1:\\nEnter a number: 4\\n1 0 0 0 \\n0 1 0 0 \\n0 0 1 0 \\n0 0 0 1 \\n \\nCase 2:\\nEnter a number: 5\\n1 0 0 0 0 \\n0 1 0 0 0 \\n0 0 1 0 0 \\n0 0 0 1 0 \\n0 0 0 0 1\\n'"
      ]
     },
     "execution_count": 17,
     "metadata": {},
     "output_type": "execute_result"
    }
   ],
   "source": [
    "# Here is source code of the Python Program to ...\n",
    "# The program output is also shown below.\n",
    "\n",
    "n=int(input(\"Enter a number: \"))\n",
    "for i in range(0,n):\n",
    "    for j in range(0,n):\n",
    "        if(i==j):\n",
    "            print(\"1\",sep=\" \",end=\" \")\n",
    "        else:\n",
    "            print(\"0\",sep=\" \",end=\" \")\n",
    "    print()\n",
    "\n",
    "\n",
    "'''\n",
    ">>Output/Runtime Test Cases\n",
    "     \n",
    "Case 1:\n",
    "Enter a number: 4\n",
    "1 0 0 0 \n",
    "0 1 0 0 \n",
    "0 0 1 0 \n",
    "0 0 0 1 \n",
    " \n",
    "Case 2:\n",
    "Enter a number: 5\n",
    "1 0 0 0 0 \n",
    "0 1 0 0 0 \n",
    "0 0 1 0 0 \n",
    "0 0 0 1 0 \n",
    "0 0 0 0 1\n",
    "'''"
   ]
  },
  {
   "cell_type": "code",
   "execution_count": null,
   "metadata": {},
   "outputs": [],
   "source": []
  }
 ],
 "metadata": {
  "hide_input": false,
  "kernelspec": {
   "display_name": "Python 3",
   "language": "python",
   "name": "python3"
  },
  "language_info": {
   "codemirror_mode": {
    "name": "ipython",
    "version": 3
   },
   "file_extension": ".py",
   "mimetype": "text/x-python",
   "name": "python",
   "nbconvert_exporter": "python",
   "pygments_lexer": "ipython3",
   "version": "3.8.8"
  },
  "toc": {
   "base_numbering": 1,
   "nav_menu": {},
   "number_sections": true,
   "sideBar": true,
   "skip_h1_title": false,
   "title_cell": "Table of Contents",
   "title_sidebar": "Contents",
   "toc_cell": false,
   "toc_position": {},
   "toc_section_display": true,
   "toc_window_display": false
  },
  "varInspector": {
   "cols": {
    "lenName": 16,
    "lenType": 16,
    "lenVar": 40
   },
   "kernels_config": {
    "python": {
     "delete_cmd_postfix": "",
     "delete_cmd_prefix": "del ",
     "library": "var_list.py",
     "varRefreshCmd": "print(var_dic_list())"
    },
    "r": {
     "delete_cmd_postfix": ") ",
     "delete_cmd_prefix": "rm(",
     "library": "var_list.r",
     "varRefreshCmd": "cat(var_dic_list()) "
    }
   },
   "types_to_exclude": [
    "module",
    "function",
    "builtin_function_or_method",
    "instance",
    "_Feature"
   ],
   "window_display": false
  }
 },
 "nbformat": 4,
 "nbformat_minor": 4
}
